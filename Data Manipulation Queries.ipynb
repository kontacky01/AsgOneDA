{
 "cells": [
  {
   "cell_type": "code",
   "execution_count": 141,
   "id": "debea28d",
   "metadata": {},
   "outputs": [],
   "source": [
    "#The database source is Kaggle.\n",
    "#It has 3 datasets: Answer, Question, and Survey.\n",
    "#The data is from a survey measures and attitudes towards mental health and frequency of mental health disorders in the tech workplace.\n",
    "#The original data format was a SQLite file which I transformed into an SQL file and cleaned up a bit.\n",
    "#By cleaning up, It was just removing some lines that were not relevant to the queries needed to define the tables and populate them.\n",
    "#The data however is used as it was retrieved from the source.\n",
    "#This is the link to original data: https://www.kaggle.com/datasets/anth7310/mental-health-in-the-tech-industry?select=mental_health.sqlite"
   ]
  },
  {
   "cell_type": "code",
   "execution_count": 142,
   "id": "69869ac8",
   "metadata": {},
   "outputs": [],
   "source": [
    "import sqlite3 as db\n",
    "import pandas as pd"
   ]
  },
  {
   "cell_type": "code",
   "execution_count": 143,
   "id": "31c6b567",
   "metadata": {},
   "outputs": [],
   "source": [
    "conn = db.connect(\"mental_health.sqlite\")\n",
    "cursor = conn.cursor()"
   ]
  },
  {
   "cell_type": "code",
   "execution_count": 144,
   "id": "d2a252ec",
   "metadata": {},
   "outputs": [],
   "source": [
    "#---------------------TASK2---------------------------------"
   ]
  },
  {
   "cell_type": "code",
   "execution_count": 145,
   "id": "16a0ef36",
   "metadata": {},
   "outputs": [
    {
     "name": "stdout",
     "output_type": "stream",
     "text": [
      "    UserID  Gender                    Description\n",
      "      2698  female  mental health survey for 2017\n",
      "      2708  female  mental health survey for 2017\n",
      "      2716  female  mental health survey for 2017\n",
      "      2721  female  mental health survey for 2017\n",
      "      2724  female  mental health survey for 2017\n",
      "..     ...     ...                            ...\n",
      "      4181  female  mental health survey for 2019\n",
      "      4183  female  mental health survey for 2019\n",
      "      4208  female  mental health survey for 2019\n",
      "      4213  female  mental health survey for 2019\n",
      "      4217  female  mental health survey for 2019\n",
      "\n",
      "[110 rows x 3 columns]\n"
     ]
    }
   ],
   "source": [
    "#Q1\n",
    "#This query returns IDs of FEMALE users only and the survey description that each one took\n",
    "query = \"select UserID, AnswerText, Description from answer join survey on answer.SurveyID = survey.SurveyID where AnswerText = 'female'\"\n",
    "cursor.execute(query)\n",
    "df = pd.DataFrame(cursor.fetchall())\n",
    "df.columns = ['UserID', 'Gender', 'Description']\n",
    "df = df.rename(index = lambda x: '')\n",
    "print(df)"
   ]
  },
  {
   "cell_type": "code",
   "execution_count": 146,
   "id": "48246e45",
   "metadata": {},
   "outputs": [
    {
     "name": "stdout",
     "output_type": "stream",
     "text": [
      "  Number of N/A answers for question 24\n",
      "                                   1209\n"
     ]
    }
   ],
   "source": [
    "#Q2\n",
    "#Since all attributes in the datasets of the database that i choose are filled\n",
    "#and there are no missing values, I wrote the query below to show how many people responded\n",
    "#with N/A instead of giving a definite answer \n",
    "#since it can be another form of leaving the attribute with a null value\n",
    "query = \" select count(answer.userid) from answer join question on answer.QuestionID = question.QuestionID where AnswerText like 'N/A%'\"\n",
    "cursor.execute(query)\n",
    "df = pd.DataFrame(cursor.fetchall())\n",
    "df.columns = ['Number of N/A answers for question 24']\n",
    "df.index = ['']\n",
    "print(df)"
   ]
  },
  {
   "cell_type": "code",
   "execution_count": 147,
   "id": "c91cd6a3",
   "metadata": {},
   "outputs": [
    {
     "name": "stdout",
     "output_type": "stream",
     "text": [
      "    UserID  Year of Survey\n",
      "      1261            2016\n",
      "      1262            2016\n",
      "      1263            2016\n",
      "      1264            2016\n",
      "      1265            2016\n",
      "..     ...             ...\n",
      "      4214            2019\n",
      "      4215            2019\n",
      "      4216            2019\n",
      "      4217            2019\n",
      "      4218            2019\n",
      "\n",
      "[204138 rows x 2 columns]\n"
     ]
    }
   ],
   "source": [
    "#Q3\n",
    "#This query returns IDs of users who did not take the 2014 survey\n",
    "query = \"select UserID, survey.SurveyID from answer join survey on answer.SurveyID = survey.SurveyID where answer.SurveyID!=2014 order by survey.SurveyID\"\n",
    "cursor.execute(query)\n",
    "df = pd.DataFrame(cursor.fetchall())\n",
    "df.columns = ['UserID', 'Year of Survey']\n",
    "df = df.rename(index = lambda x: '')\n",
    "print(df)"
   ]
  },
  {
   "cell_type": "code",
   "execution_count": 148,
   "id": "230b7a0e",
   "metadata": {},
   "outputs": [
    {
     "name": "stdout",
     "output_type": "stream",
     "text": [
      "    UserID  SurveyID\n",
      "         1      2014\n",
      "         2      2014\n",
      "         3      2014\n",
      "         4      2014\n",
      "         5      2014\n",
      "..     ...       ...\n",
      "      2689      2016\n",
      "      2690      2016\n",
      "      2691      2016\n",
      "      2692      2016\n",
      "      2693      2016\n",
      "\n",
      "[236898 rows x 2 columns]\n"
     ]
    }
   ],
   "source": [
    "#Q4\n",
    "#This query returns IDs of users who only took one survey\n",
    "query = \"select UserID, SurveyID from answer where UserID not in (select A.UserID from answer A, answer B where A.UserID = B.UserID and A.SurveyID <> B.SurveyID)\"\n",
    "cursor.execute(query)\n",
    "df = pd.DataFrame(cursor.fetchall())\n",
    "df.columns = ['UserID', 'SurveyID']\n",
    "df = df.rename(index = lambda x: '')\n",
    "print(df)"
   ]
  },
  {
   "cell_type": "code",
   "execution_count": 149,
   "id": "64789b3b",
   "metadata": {},
   "outputs": [
    {
     "name": "stdout",
     "output_type": "stream",
     "text": [
      "    How many people of this Age  Age\n",
      "                              5   -1\n",
      "                              1  -29\n",
      "                              1    0\n",
      "                              1   11\n",
      "                              1   15\n",
      "..                          ...  ...\n",
      "                              1   70\n",
      "                              1   72\n",
      "                              1   74\n",
      "                              1    8\n",
      "                              1   99\n",
      "\n",
      "[65 rows x 2 columns]\n"
     ]
    }
   ],
   "source": [
    "#Q5\n",
    "#This query returns the age and the number of people with that age who\n",
    "#took the surveys and answered question 1 which was what is your age\n",
    "query = \"select count(UserID), AnswerText from answer where QuestionID=1 group by AnswerText order by AnswerText\"\n",
    "cursor.execute(query)\n",
    "df = pd.DataFrame(cursor.fetchall())\n",
    "df.columns = ['How many people of this Age', 'Age']\n",
    "df = df.rename(index = lambda x: '')\n",
    "print(df)"
   ]
  },
  {
   "cell_type": "code",
   "execution_count": 150,
   "id": "105d108a",
   "metadata": {},
   "outputs": [
    {
     "name": "stdout",
     "output_type": "stream",
     "text": [
      " Minimum Age Maximum Age\n",
      "          -1          99\n"
     ]
    }
   ],
   "source": [
    "#Q6\n",
    "#This query returns the min and max ages of the people who took the surveys\n",
    "query = \"select min(AnswerText), max(AnswerText) from answer where QuestionID=1\"\n",
    "cursor.execute(query)\n",
    "df = pd.DataFrame(cursor.fetchall())\n",
    "df.columns = ['Minimum Age', 'Maximum Age']\n",
    "df = df.rename(index = lambda x: '')\n",
    "print(df)"
   ]
  },
  {
   "cell_type": "code",
   "execution_count": 151,
   "id": "be863f79",
   "metadata": {},
   "outputs": [
    {
     "name": "stdout",
     "output_type": "stream",
     "text": [
      "    User ID of Person Age  User ID of Another Person with same age Age\n",
      "                    1  37                                       30  37\n",
      "                    1  37                                      142  37\n",
      "                    1  37                                      146  37\n",
      "                    1  37                                      155  37\n",
      "                    1  37                                      186  37\n",
      "..                ...  ..                                      ...  ..\n",
      "                 4218  24                                     4102  24\n",
      "                 4218  24                                     4112  24\n",
      "                 4218  24                                     4154  24\n",
      "                 4218  24                                     4190  24\n",
      "                 4218  24                                     4196  24\n",
      "\n",
      "[675142 rows x 4 columns]\n"
     ]
    }
   ],
   "source": [
    "#Q7\n",
    "#This query returns the ID of a user matched with an ID of other users with the same age indicating the age of both matched users\n",
    "query = \"select A.UserID, A.AnswerText, B.UserID, B.AnswerText from answer A, answer B where A.UserID <> B.UserID and A.QuestionID = 1 and B.QuestionID = 1 and A.AnswerText = B.AnswerText order by A.UserID\"\n",
    "cursor.execute(query)\n",
    "df = pd.DataFrame(cursor.fetchall())\n",
    "df.columns = ['User ID of Person', 'Age', 'User ID of Another Person with same age', 'Age']\n",
    "df = df.rename(index = lambda x: '')\n",
    "print(df)"
   ]
  },
  {
   "cell_type": "code",
   "execution_count": 152,
   "id": "080e3a4a",
   "metadata": {},
   "outputs": [],
   "source": [
    "#---------------------TASK3---------------------------------"
   ]
  },
  {
   "cell_type": "code",
   "execution_count": 153,
   "id": "b5049e42",
   "metadata": {},
   "outputs": [],
   "source": [
    "#Q1"
   ]
  },
  {
   "cell_type": "code",
   "execution_count": 154,
   "id": "0fa1e2a5",
   "metadata": {},
   "outputs": [],
   "source": [
    "query = \"select * from answer\"\n",
    "df = pd.read_sql_query(query,conn)"
   ]
  },
  {
   "cell_type": "code",
   "execution_count": 155,
   "id": "350b8038",
   "metadata": {},
   "outputs": [
    {
     "data": {
      "text/html": [
       "<div>\n",
       "<style scoped>\n",
       "    .dataframe tbody tr th:only-of-type {\n",
       "        vertical-align: middle;\n",
       "    }\n",
       "\n",
       "    .dataframe tbody tr th {\n",
       "        vertical-align: top;\n",
       "    }\n",
       "\n",
       "    .dataframe thead th {\n",
       "        text-align: right;\n",
       "    }\n",
       "</style>\n",
       "<table border=\"1\" class=\"dataframe\">\n",
       "  <thead>\n",
       "    <tr style=\"text-align: right;\">\n",
       "      <th></th>\n",
       "      <th>AnswerText</th>\n",
       "      <th>SurveyID</th>\n",
       "      <th>UserID</th>\n",
       "      <th>QuestionID</th>\n",
       "    </tr>\n",
       "  </thead>\n",
       "  <tbody>\n",
       "    <tr>\n",
       "      <th>0</th>\n",
       "      <td>37</td>\n",
       "      <td>2014</td>\n",
       "      <td>1</td>\n",
       "      <td>1</td>\n",
       "    </tr>\n",
       "    <tr>\n",
       "      <th>1</th>\n",
       "      <td>44</td>\n",
       "      <td>2014</td>\n",
       "      <td>2</td>\n",
       "      <td>1</td>\n",
       "    </tr>\n",
       "    <tr>\n",
       "      <th>2</th>\n",
       "      <td>32</td>\n",
       "      <td>2014</td>\n",
       "      <td>3</td>\n",
       "      <td>1</td>\n",
       "    </tr>\n",
       "    <tr>\n",
       "      <th>3</th>\n",
       "      <td>31</td>\n",
       "      <td>2014</td>\n",
       "      <td>4</td>\n",
       "      <td>1</td>\n",
       "    </tr>\n",
       "    <tr>\n",
       "      <th>4</th>\n",
       "      <td>31</td>\n",
       "      <td>2014</td>\n",
       "      <td>5</td>\n",
       "      <td>1</td>\n",
       "    </tr>\n",
       "    <tr>\n",
       "      <th>...</th>\n",
       "      <td>...</td>\n",
       "      <td>...</td>\n",
       "      <td>...</td>\n",
       "      <td>...</td>\n",
       "    </tr>\n",
       "    <tr>\n",
       "      <th>236893</th>\n",
       "      <td>Other</td>\n",
       "      <td>2016</td>\n",
       "      <td>2689</td>\n",
       "      <td>117</td>\n",
       "    </tr>\n",
       "    <tr>\n",
       "      <th>236894</th>\n",
       "      <td>Support</td>\n",
       "      <td>2016</td>\n",
       "      <td>2690</td>\n",
       "      <td>117</td>\n",
       "    </tr>\n",
       "    <tr>\n",
       "      <th>236895</th>\n",
       "      <td>Back-end Developer</td>\n",
       "      <td>2016</td>\n",
       "      <td>2691</td>\n",
       "      <td>117</td>\n",
       "    </tr>\n",
       "    <tr>\n",
       "      <th>236896</th>\n",
       "      <td>DevOps/SysAdmin</td>\n",
       "      <td>2016</td>\n",
       "      <td>2692</td>\n",
       "      <td>117</td>\n",
       "    </tr>\n",
       "    <tr>\n",
       "      <th>236897</th>\n",
       "      <td>Other</td>\n",
       "      <td>2016</td>\n",
       "      <td>2693</td>\n",
       "      <td>117</td>\n",
       "    </tr>\n",
       "  </tbody>\n",
       "</table>\n",
       "<p>236898 rows × 4 columns</p>\n",
       "</div>"
      ],
      "text/plain": [
       "                AnswerText  SurveyID  UserID  QuestionID\n",
       "0                       37      2014       1           1\n",
       "1                       44      2014       2           1\n",
       "2                       32      2014       3           1\n",
       "3                       31      2014       4           1\n",
       "4                       31      2014       5           1\n",
       "...                    ...       ...     ...         ...\n",
       "236893               Other      2016    2689         117\n",
       "236894             Support      2016    2690         117\n",
       "236895  Back-end Developer      2016    2691         117\n",
       "236896     DevOps/SysAdmin      2016    2692         117\n",
       "236897               Other      2016    2693         117\n",
       "\n",
       "[236898 rows x 4 columns]"
      ]
     },
     "execution_count": 155,
     "metadata": {},
     "output_type": "execute_result"
    }
   ],
   "source": [
    "df"
   ]
  },
  {
   "cell_type": "code",
   "execution_count": 156,
   "id": "36a5b4f0",
   "metadata": {},
   "outputs": [],
   "source": [
    "df.to_csv('Answer.csv')"
   ]
  },
  {
   "cell_type": "code",
   "execution_count": 157,
   "id": "3ea1cf74",
   "metadata": {},
   "outputs": [],
   "source": [
    "query = \"select * from question\"\n",
    "df = pd.read_sql_query(query,conn)"
   ]
  },
  {
   "cell_type": "code",
   "execution_count": 158,
   "id": "92b9e658",
   "metadata": {},
   "outputs": [
    {
     "data": {
      "text/html": [
       "<div>\n",
       "<style scoped>\n",
       "    .dataframe tbody tr th:only-of-type {\n",
       "        vertical-align: middle;\n",
       "    }\n",
       "\n",
       "    .dataframe tbody tr th {\n",
       "        vertical-align: top;\n",
       "    }\n",
       "\n",
       "    .dataframe thead th {\n",
       "        text-align: right;\n",
       "    }\n",
       "</style>\n",
       "<table border=\"1\" class=\"dataframe\">\n",
       "  <thead>\n",
       "    <tr style=\"text-align: right;\">\n",
       "      <th></th>\n",
       "      <th>questiontext</th>\n",
       "      <th>questionid</th>\n",
       "    </tr>\n",
       "  </thead>\n",
       "  <tbody>\n",
       "    <tr>\n",
       "      <th>0</th>\n",
       "      <td>What is your age?</td>\n",
       "      <td>1</td>\n",
       "    </tr>\n",
       "    <tr>\n",
       "      <th>1</th>\n",
       "      <td>What is your gender?</td>\n",
       "      <td>2</td>\n",
       "    </tr>\n",
       "    <tr>\n",
       "      <th>2</th>\n",
       "      <td>What country do you live in?</td>\n",
       "      <td>3</td>\n",
       "    </tr>\n",
       "    <tr>\n",
       "      <th>3</th>\n",
       "      <td>If you live in the United States, which state ...</td>\n",
       "      <td>4</td>\n",
       "    </tr>\n",
       "    <tr>\n",
       "      <th>4</th>\n",
       "      <td>Are you self-employed?</td>\n",
       "      <td>5</td>\n",
       "    </tr>\n",
       "    <tr>\n",
       "      <th>...</th>\n",
       "      <td>...</td>\n",
       "      <td>...</td>\n",
       "    </tr>\n",
       "    <tr>\n",
       "      <th>100</th>\n",
       "      <td>Do you think that team members/co-workers woul...</td>\n",
       "      <td>114</td>\n",
       "    </tr>\n",
       "    <tr>\n",
       "      <th>101</th>\n",
       "      <td>If yes, what condition(s) have you been diagno...</td>\n",
       "      <td>115</td>\n",
       "    </tr>\n",
       "    <tr>\n",
       "      <th>102</th>\n",
       "      <td>If maybe, what condition(s) do you believe you...</td>\n",
       "      <td>116</td>\n",
       "    </tr>\n",
       "    <tr>\n",
       "      <th>103</th>\n",
       "      <td>Which of the following best describes your wor...</td>\n",
       "      <td>117</td>\n",
       "    </tr>\n",
       "    <tr>\n",
       "      <th>104</th>\n",
       "      <td>Do you work remotely?</td>\n",
       "      <td>118</td>\n",
       "    </tr>\n",
       "  </tbody>\n",
       "</table>\n",
       "<p>105 rows × 2 columns</p>\n",
       "</div>"
      ],
      "text/plain": [
       "                                          questiontext  questionid\n",
       "0                                    What is your age?           1\n",
       "1                                 What is your gender?           2\n",
       "2                         What country do you live in?           3\n",
       "3    If you live in the United States, which state ...           4\n",
       "4                               Are you self-employed?           5\n",
       "..                                                 ...         ...\n",
       "100  Do you think that team members/co-workers woul...         114\n",
       "101  If yes, what condition(s) have you been diagno...         115\n",
       "102  If maybe, what condition(s) do you believe you...         116\n",
       "103  Which of the following best describes your wor...         117\n",
       "104                              Do you work remotely?         118\n",
       "\n",
       "[105 rows x 2 columns]"
      ]
     },
     "execution_count": 158,
     "metadata": {},
     "output_type": "execute_result"
    }
   ],
   "source": [
    "df"
   ]
  },
  {
   "cell_type": "code",
   "execution_count": 159,
   "id": "2d5fd0d9",
   "metadata": {},
   "outputs": [],
   "source": [
    "df.to_csv('Question.csv')"
   ]
  },
  {
   "cell_type": "code",
   "execution_count": 160,
   "id": "74e439c3",
   "metadata": {},
   "outputs": [],
   "source": [
    "query = \"select * from survey\"\n",
    "df = pd.read_sql_query(query,conn)"
   ]
  },
  {
   "cell_type": "code",
   "execution_count": 161,
   "id": "ff336cc9",
   "metadata": {},
   "outputs": [
    {
     "data": {
      "text/html": [
       "<div>\n",
       "<style scoped>\n",
       "    .dataframe tbody tr th:only-of-type {\n",
       "        vertical-align: middle;\n",
       "    }\n",
       "\n",
       "    .dataframe tbody tr th {\n",
       "        vertical-align: top;\n",
       "    }\n",
       "\n",
       "    .dataframe thead th {\n",
       "        text-align: right;\n",
       "    }\n",
       "</style>\n",
       "<table border=\"1\" class=\"dataframe\">\n",
       "  <thead>\n",
       "    <tr style=\"text-align: right;\">\n",
       "      <th></th>\n",
       "      <th>SurveyID</th>\n",
       "      <th>Description</th>\n",
       "    </tr>\n",
       "  </thead>\n",
       "  <tbody>\n",
       "    <tr>\n",
       "      <th>0</th>\n",
       "      <td>2014</td>\n",
       "      <td>mental health survey for 2014</td>\n",
       "    </tr>\n",
       "    <tr>\n",
       "      <th>1</th>\n",
       "      <td>2016</td>\n",
       "      <td>mental health survey for 2016</td>\n",
       "    </tr>\n",
       "    <tr>\n",
       "      <th>2</th>\n",
       "      <td>2017</td>\n",
       "      <td>mental health survey for 2017</td>\n",
       "    </tr>\n",
       "    <tr>\n",
       "      <th>3</th>\n",
       "      <td>2018</td>\n",
       "      <td>mental health survey for 2018</td>\n",
       "    </tr>\n",
       "    <tr>\n",
       "      <th>4</th>\n",
       "      <td>2019</td>\n",
       "      <td>mental health survey for 2019</td>\n",
       "    </tr>\n",
       "  </tbody>\n",
       "</table>\n",
       "</div>"
      ],
      "text/plain": [
       "   SurveyID                    Description\n",
       "0      2014  mental health survey for 2014\n",
       "1      2016  mental health survey for 2016\n",
       "2      2017  mental health survey for 2017\n",
       "3      2018  mental health survey for 2018\n",
       "4      2019  mental health survey for 2019"
      ]
     },
     "execution_count": 161,
     "metadata": {},
     "output_type": "execute_result"
    }
   ],
   "source": [
    "df"
   ]
  },
  {
   "cell_type": "code",
   "execution_count": 162,
   "id": "4ec78c62",
   "metadata": {},
   "outputs": [],
   "source": [
    "df.to_csv('Survey.csv')"
   ]
  },
  {
   "cell_type": "code",
   "execution_count": 163,
   "id": "6771a818",
   "metadata": {},
   "outputs": [],
   "source": [
    "#---------------------TASK3---------------------------------"
   ]
  },
  {
   "cell_type": "code",
   "execution_count": 164,
   "id": "b527d76f",
   "metadata": {},
   "outputs": [],
   "source": [
    "#Q2"
   ]
  },
  {
   "cell_type": "code",
   "execution_count": 165,
   "id": "71892c47",
   "metadata": {},
   "outputs": [
    {
     "name": "stdout",
     "output_type": "stream",
     "text": [
      "    UserID  Gender                    Description\n",
      "      2698  female  mental health survey for 2017\n",
      "      2708  female  mental health survey for 2017\n",
      "      2716  female  mental health survey for 2017\n",
      "      2721  female  mental health survey for 2017\n",
      "      2724  female  mental health survey for 2017\n",
      "..     ...     ...                            ...\n",
      "      4181  female  mental health survey for 2019\n",
      "      4183  female  mental health survey for 2019\n",
      "      4208  female  mental health survey for 2019\n",
      "      4213  female  mental health survey for 2019\n",
      "      4217  female  mental health survey for 2019\n",
      "\n",
      "[110 rows x 3 columns]\n"
     ]
    }
   ],
   "source": [
    "#1\n",
    "#This query returns IDs of FEMALE users only and the survey description that each one took\n",
    "df1 = pd.read_csv('Answer.csv')\n",
    "df2 = pd.read_csv('Survey.csv')\n",
    "df_merged = pd.merge(df1, df2, on = 'SurveyID')\n",
    "df = df_merged.loc[df_merged['AnswerText'] == 'female', ['UserID','AnswerText', 'Description'] ]\n",
    "df.columns = ['UserID', 'Gender', 'Description']\n",
    "df = df.rename(index = lambda x: '')\n",
    "print(df)"
   ]
  },
  {
   "cell_type": "code",
   "execution_count": 166,
   "id": "4632c637",
   "metadata": {},
   "outputs": [
    {
     "name": "stdout",
     "output_type": "stream",
     "text": [
      "Number of N/A answers for question 24\n",
      "1206\n"
     ]
    }
   ],
   "source": [
    "#2\n",
    "#Since all attributes in the datasets of the database that i choose are filled\n",
    "#and there are no missing values, I wrote the query below to show how many people responded\n",
    "#with N/A instead of giving a definite answer \n",
    "#since it can be another form of leaving the attribute with a null value\n",
    "df1 = pd.read_csv('Answer.csv')\n",
    "df2 = pd.read_csv('Question.csv')\n",
    "df_merged = pd.merge(df1, df2, left_on = 'QuestionID', right_on = 'questionid')\n",
    "df3 = df_merged.query('AnswerText.str.contains(\"N/A\")')\n",
    "print('Number of N/A answers for question 24')\n",
    "print(len(df3))"
   ]
  },
  {
   "cell_type": "code",
   "execution_count": 167,
   "id": "64b28c48",
   "metadata": {},
   "outputs": [
    {
     "name": "stdout",
     "output_type": "stream",
     "text": [
      "    UserID  Year of Survey\n",
      "      1261            2016\n",
      "      1262            2016\n",
      "      1263            2016\n",
      "      1264            2016\n",
      "      1265            2016\n",
      "..     ...             ...\n",
      "      4214            2019\n",
      "      4215            2019\n",
      "      4216            2019\n",
      "      4217            2019\n",
      "      4218            2019\n",
      "\n",
      "[204138 rows x 2 columns]\n"
     ]
    }
   ],
   "source": [
    "#3\n",
    "#This query returns IDs of users who did not take the 2014 survey\n",
    "df1 = pd.read_csv('Answer.csv')\n",
    "df2 = pd.read_csv('Survey.csv')\n",
    "df_merged = pd.merge(df1, df2, on = 'SurveyID')\n",
    "df = df_merged.loc[df_merged['SurveyID'] != 2014, ['UserID','SurveyID'] ]\n",
    "df.columns = ['UserID', 'Year of Survey']\n",
    "df = df.rename(index = lambda x: '')\n",
    "print(df)"
   ]
  },
  {
   "cell_type": "code",
   "execution_count": 168,
   "id": "2b38ff09",
   "metadata": {},
   "outputs": [],
   "source": [
    "#4\n",
    "#This query returns IDs of users who only took one survey\n",
    "#I had to do a self join on table Answer(AnswerText, SurveyID, UserID, QuestionID)\n",
    "#but couldn't figure out how to do a self join on a table where if i was to create two aliases\n",
    "#the common column has the same name in both aliases. i kept getting an error about indexes"
   ]
  },
  {
   "cell_type": "code",
   "execution_count": 169,
   "id": "9566e46d",
   "metadata": {},
   "outputs": [
    {
     "name": "stdout",
     "output_type": "stream",
     "text": [
      "Empty DataFrame\n",
      "Columns: [UserID, Year of Survey]\n",
      "Index: []\n"
     ]
    }
   ],
   "source": [
    "#5\n",
    "#This query returns the age and the number of people with that age who\n",
    "#took the surveys and answered question 1 which was what is your age\n",
    "df1 = pd.read_csv('Answer.csv')\n",
    "df = df1.loc[df1['AnswerText'] == 1, ['UserID','SurveyID'] ]\n",
    "df.columns = ['UserID', 'Year of Survey']\n",
    "df = df.rename(index = lambda x: '')\n",
    "print(df)"
   ]
  },
  {
   "cell_type": "code",
   "execution_count": 170,
   "id": "e651cf79",
   "metadata": {},
   "outputs": [
    {
     "name": "stdout",
     "output_type": "stream",
     "text": [
      "{'Minimum Age': ['-1'], 'Maximum Age': ['99']}\n"
     ]
    }
   ],
   "source": [
    "#6\n",
    "#This query returns the min and max ages of the people who took the surveys\n",
    "\n",
    "df1 = pd.read_csv('Answer.csv')\n",
    "df_temp = df1.loc[df1['QuestionID'] == 1, ['AnswerText'] ]\n",
    "df = {'Minimum Age':[df_temp.min().to_string(index=False,dtype=False)], 'Maximum Age':[df_temp.max().to_string(index=False,dtype=False)]}\n",
    "print(df)"
   ]
  },
  {
   "cell_type": "code",
   "execution_count": 171,
   "id": "1373f5c6",
   "metadata": {},
   "outputs": [],
   "source": [
    "#7\n",
    "#This query returns IDs of users who only took one survey\n",
    "#I had to do a self join on table Answer(AnswerText, SurveyID, UserID, QuestionID)\n",
    "#but couldn't figure out how to do a self join on a table where if i was to create two aliases\n",
    "#the common column has the same name in both aliases. i kept getting an error about indexes"
   ]
  },
  {
   "cell_type": "code",
   "execution_count": 172,
   "id": "7a5e9ad6",
   "metadata": {},
   "outputs": [],
   "source": [
    "cursor.close()\n",
    "conn.close()"
   ]
  }
 ],
 "metadata": {
  "kernelspec": {
   "display_name": "Python 3 (ipykernel)",
   "language": "python",
   "name": "python3"
  },
  "language_info": {
   "codemirror_mode": {
    "name": "ipython",
    "version": 3
   },
   "file_extension": ".py",
   "mimetype": "text/x-python",
   "name": "python",
   "nbconvert_exporter": "python",
   "pygments_lexer": "ipython3",
   "version": "3.11.4"
  }
 },
 "nbformat": 4,
 "nbformat_minor": 5
}
